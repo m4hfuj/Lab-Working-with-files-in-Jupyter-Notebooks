{
 "cells": [
  {
   "cell_type": "markdown",
   "id": "2466e780-31ee-48d3-b5b7-cbb40d30b209",
   "metadata": {},
   "source": [
    "# Data Science Tools and Ecosystem"
   ]
  },
  {
   "cell_type": "markdown",
   "id": "9d9d4aa0-c9bd-4dcd-80bf-288f1e21d505",
   "metadata": {},
   "source": [
    "In this notebook, Data Science Tools and Ecosystem are summarized."
   ]
  },
  {
   "cell_type": "markdown",
   "id": "8bd50133-ed3e-42cc-9ff0-9bd0bd9f021d",
   "metadata": {},
   "source": [
    "Some of the popular languages that Data Scientists use are:\n",
    "1. Python\n",
    "2. R\n",
    "3. Java\n",
    "4. Julia\n",
    "5. Scala"
   ]
  },
  {
   "cell_type": "markdown",
   "id": "68471541-af81-479d-a3de-ad60f44fb39a",
   "metadata": {},
   "source": [
    "Some of the commonly used libraries used by Data Scientists include:\n",
    "1. Pandas\n",
    "2. Numpy\n",
    "3. Matplotlib\n",
    "4. Seaborn\n",
    "5. Plotly"
   ]
  },
  {
   "cell_type": "markdown",
   "id": "979ba89c-3003-418a-bbf6-9043ed63b55c",
   "metadata": {},
   "source": [
    "| Data Science Tools |\n",
    "|-------------------|\n",
    "| Jupyter Notebook  |\n",
    "| RStudio           |\n",
    "| VS Code           |"
   ]
  },
  {
   "cell_type": "markdown",
   "id": "cade8aa5-264e-4985-bbb8-02b76052cd16",
   "metadata": {},
   "source": [
    "### Below are a few examples of evaluating arithmetic expressions in Python\n",
    "\n",
    "| Operand 1 | Operator | Operand 2 | Result |\n",
    "|-----------|----------|-----------|--------|\n",
    "|     10    |    +     |     5     |   15   |\n",
    "|     20    |    -     |     8     |   12   |\n",
    "|     6     |    *     |     4     |   24   |\n",
    "|     50    |    /     |     2     |   25   |"
   ]
  },
  {
   "cell_type": "code",
   "execution_count": 1,
   "id": "f78bc88e-b063-483a-b9c3-8a7a8a89d190",
   "metadata": {},
   "outputs": [
    {
     "data": {
      "text/plain": [
       "17"
      ]
     },
     "execution_count": 1,
     "metadata": {},
     "output_type": "execute_result"
    }
   ],
   "source": [
    "#This a simple arithmetic expression to mutiply then add integers\n",
    "(3*4)+5"
   ]
  },
  {
   "cell_type": "code",
   "execution_count": 2,
   "id": "a68f54fa-b56b-4029-90eb-5132b529aa01",
   "metadata": {},
   "outputs": [
    {
     "data": {
      "text/plain": [
       "3.3333333333333335"
      ]
     },
     "execution_count": 2,
     "metadata": {},
     "output_type": "execute_result"
    }
   ],
   "source": [
    "# This will convert 200 minutes to hours by dividing by 60.\n",
    "minutes = 200\n",
    "hours = minutes / 60\n",
    "hours"
   ]
  },
  {
   "cell_type": "markdown",
   "id": "74df77e9-6382-450d-96aa-8e8f653f43fb",
   "metadata": {},
   "source": [
    "Objectives:\n",
    "- List popular languages for Data Science.\n",
    "- Introduce common tools and environments used in Data Science.\n",
    "- Demonstrate basic arithmetic operations in Python.\n",
    "- Illustrate conversion of units, such as minutes to hours, using Python expressions."
   ]
  },
  {
   "cell_type": "markdown",
   "id": "aee5c37b-a2e0-4990-ab86-e5c14aedeb94",
   "metadata": {},
   "source": [
    "## Author\n",
    "Mirza Mahfuj Hossain"
   ]
  }
 ],
 "metadata": {
  "kernelspec": {
   "display_name": "Python 3 (ipykernel)",
   "language": "python",
   "name": "python3"
  },
  "language_info": {
   "codemirror_mode": {
    "name": "ipython",
    "version": 3
   },
   "file_extension": ".py",
   "mimetype": "text/x-python",
   "name": "python",
   "nbconvert_exporter": "python",
   "pygments_lexer": "ipython3",
   "version": "3.10.12"
  }
 },
 "nbformat": 4,
 "nbformat_minor": 5
}
